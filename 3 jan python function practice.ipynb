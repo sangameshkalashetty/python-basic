{
 "cells": [
  {
   "cell_type": "markdown",
   "id": "8adceaed-6f1d-4943-91ca-5315e5cf02dc",
   "metadata": {},
   "source": [
    "# Python functions----"
   ]
  },
  {
   "cell_type": "code",
   "execution_count": null,
   "id": "ded72cc6-fa18-41a4-8638-7a053efdcd7b",
   "metadata": {},
   "outputs": [],
   "source": [
    "#function:-A function is a block of code which only runs when it is called.\n",
    "You can pass data, known as parameters, into a function.\n",
    "A function can return data as a result."
   ]
  },
  {
   "cell_type": "code",
   "execution_count": 10,
   "id": "67911e3f-d187-4624-b66b-c44011abb33b",
   "metadata": {},
   "outputs": [],
   "source": [
    "def greet():\n",
    "    print(\"hello\")\n",
    "    print(\"Good Morning\")\n",
    "    "
   ]
  },
  {
   "cell_type": "code",
   "execution_count": 12,
   "id": "7e78f947-b614-45dc-bcf7-1cf9311cb32e",
   "metadata": {},
   "outputs": [
    {
     "name": "stdout",
     "output_type": "stream",
     "text": [
      "hello\n",
      "good Morninng\n"
     ]
    }
   ],
   "source": [
    "def greet():\n",
    "    print(\"hello\")\n",
    "    print(\"good Morninng\")\n",
    "greet()\n"
   ]
  },
  {
   "cell_type": "code",
   "execution_count": 14,
   "id": "c420343c-a462-4d3e-b73f-d0197f62e37b",
   "metadata": {},
   "outputs": [
    {
     "name": "stdout",
     "output_type": "stream",
     "text": [
      "hello\n",
      "good Morninng\n",
      "hello\n",
      "good Morninng\n",
      "hello\n",
      "good Morninng\n"
     ]
    }
   ],
   "source": [
    "def greet():\n",
    "    print(\"hello\")\n",
    "    print(\"good Morninng\")\n",
    "greet()\n",
    "greet()\n",
    "greet()"
   ]
  },
  {
   "cell_type": "code",
   "execution_count": 16,
   "id": "e3355971-641c-4c39-aeac-aecf8d4ac6ba",
   "metadata": {},
   "outputs": [
    {
     "name": "stdout",
     "output_type": "stream",
     "text": [
      "15\n"
     ]
    }
   ],
   "source": [
    "# write a python cod add two number\n",
    "def add(x,y):\n",
    "    c=x+y\n",
    "    print(c)\n",
    "add(7,8)"
   ]
  },
  {
   "cell_type": "code",
   "execution_count": 20,
   "id": "256ae3dd-4473-4b98-92a8-2d4f7e082aa6",
   "metadata": {},
   "outputs": [
    {
     "name": "stdout",
     "output_type": "stream",
     "text": [
      "20\n"
     ]
    }
   ],
   "source": [
    "def add(x,y,z):\n",
    "    c=x+y+z\n",
    "    print(c)\n",
    "add(5,7,8)"
   ]
  },
  {
   "cell_type": "code",
   "execution_count": 22,
   "id": "41b4f49c-1e36-440b-9fa7-96a8c58fd5d3",
   "metadata": {},
   "outputs": [
    {
     "name": "stdout",
     "output_type": "stream",
     "text": [
      "hello\n",
      "Good Morning\n",
      "16\n"
     ]
    }
   ],
   "source": [
    "def greet():\n",
    "    print(\"hello\")\n",
    "    print(\"Good Morning\")\n",
    "greet()\n",
    "\n",
    "def add(x,y):\n",
    "    c=x+y\n",
    "    print(c)\n",
    "add(7,9)"
   ]
  },
  {
   "cell_type": "code",
   "execution_count": 28,
   "id": "781165e7-ae90-4b30-b811-83f5b4360dba",
   "metadata": {},
   "outputs": [
    {
     "name": "stdout",
     "output_type": "stream",
     "text": [
      "hello\n",
      "Good Morning\n",
      "14\n"
     ]
    },
    {
     "data": {
      "text/plain": [
       "-5"
      ]
     },
     "execution_count": 28,
     "metadata": {},
     "output_type": "execute_result"
    }
   ],
   "source": [
    "def greet():\n",
    "    print(\"hello\")\n",
    "    print(\"Good Morning\")\n",
    "\n",
    "def add(x,y,z):\n",
    "    c=x+y+z\n",
    "    print(c)\n",
    "\n",
    "def sub(x,y,z):\n",
    "    c=x-y-z\n",
    "    return c\n",
    "\n",
    "greet()\n",
    "add(2,5,7)\n",
    "sub(7,9,3)\n",
    "    \n"
   ]
  },
  {
   "cell_type": "code",
   "execution_count": 32,
   "id": "3cad58f9-11ab-48dc-94af-0b4d890aedb0",
   "metadata": {},
   "outputs": [
    {
     "name": "stdout",
     "output_type": "stream",
     "text": [
      "hello\n",
      "Good Morning\n",
      "18\n"
     ]
    }
   ],
   "source": [
    "def greet():\n",
    "    print(\"hello\")\n",
    "    print(\"Good Morning\")\n",
    "\n",
    "def add(x,y,z):\n",
    "    c=x+y+z\n",
    "    return c\n",
    "greet()\n",
    "result=add(4,6,8)\n",
    "print(result)"
   ]
  },
  {
   "cell_type": "code",
   "execution_count": 46,
   "id": "9a596ed3-2ea3-4f7e-8c44-0449d3463fb1",
   "metadata": {},
   "outputs": [
    {
     "name": "stdout",
     "output_type": "stream",
     "text": [
      "15 -1 56 5764801 0.875\n"
     ]
    }
   ],
   "source": [
    "def add_sub(x,y):# what if i want to return 2 values add_sub & i want to return 2 values & function can accept multiple value\n",
    "    c=x+y\n",
    "    d=x-y\n",
    "    e=x*y\n",
    "    f=x**y\n",
    "    g=x/y\n",
    "    print(c,d,e,f,g)\n",
    "add_sub(7,8)"
   ]
  },
  {
   "cell_type": "code",
   "execution_count": 50,
   "id": "ce8f7389-1779-4d01-ae23-2141afc632ee",
   "metadata": {},
   "outputs": [
    {
     "name": "stdout",
     "output_type": "stream",
     "text": [
      "12 -2\n"
     ]
    }
   ],
   "source": [
    "def add_sub(x,y):\n",
    "    c=x+y\n",
    "    d=x-y\n",
    "    print(c,d)\n",
    "add_sub(5,7)"
   ]
  },
  {
   "cell_type": "code",
   "execution_count": 54,
   "id": "4c699893-d18f-42fd-949e-93743d3384fa",
   "metadata": {},
   "outputs": [
    {
     "data": {
      "text/plain": [
       "(12, -2)"
      ]
     },
     "execution_count": 54,
     "metadata": {},
     "output_type": "execute_result"
    }
   ],
   "source": [
    "def add_sub(x,y):\n",
    "    c=x+y\n",
    "    d=x-y\n",
    "    return c,d\n",
    "add_sub(5,7)"
   ]
  },
  {
   "cell_type": "code",
   "execution_count": 60,
   "id": "d435c3c1-152e-45a8-891b-e8c8f0167151",
   "metadata": {},
   "outputs": [
    {
     "name": "stdout",
     "output_type": "stream",
     "text": [
      "14\n",
      "<class 'int'>\n",
      "<class 'int'>\n"
     ]
    }
   ],
   "source": [
    "def add_sub(x,y):\n",
    "    c=x+y\n",
    "    d=x-y\n",
    "    return c,d\n",
    "result1,result2=add_sub(7,8)\n",
    "\n",
    "print(result1+result2)\n",
    "print(type(result1))\n",
    "print(type(result2))"
   ]
  },
  {
   "cell_type": "code",
   "execution_count": 7,
   "id": "891555b2-9073-47dd-a182-5d9c587db651",
   "metadata": {},
   "outputs": [
    {
     "name": "stdout",
     "output_type": "stream",
     "text": [
      "Emil Refsnes\n"
     ]
    }
   ],
   "source": [
    "#Argument:---\n",
    "def function(fname, lname):\n",
    "  print(fname+\" \"+lname)\n",
    "\n",
    "function(\"Emil\", \"Refsnes\")"
   ]
  },
  {
   "cell_type": "code",
   "execution_count": 15,
   "id": "b3968a98-d8c5-487b-8ad1-a6cc53b65682",
   "metadata": {},
   "outputs": [
    {
     "name": "stdout",
     "output_type": "stream",
     "text": [
      "Emil sangu\n"
     ]
    }
   ],
   "source": [
    "def function(fname, lname):\n",
    "  print(fname + \" \" + lname)\n",
    "\n",
    "function(\"Emil\",\"sangu\")"
   ]
  },
  {
   "cell_type": "code",
   "execution_count": 62,
   "id": "84f7d18c-16aa-4868-b20c-95477fc3a949",
   "metadata": {},
   "outputs": [
    {
     "name": "stdout",
     "output_type": "stream",
     "text": [
      "15\n"
     ]
    }
   ],
   "source": [
    "#update function take the value from the user\n",
    "def update(x):\n",
    "    x=15\n",
    "    print(x)\n",
    "update(15)"
   ]
  },
  {
   "cell_type": "code",
   "execution_count": 66,
   "id": "dd2142bc-4e3b-4f36-91ed-86228cd08065",
   "metadata": {},
   "outputs": [
    {
     "name": "stdout",
     "output_type": "stream",
     "text": [
      "15\n",
      "12\n"
     ]
    }
   ],
   "source": [
    "def update(x):\n",
    "    x=15\n",
    "    print(x)\n",
    "a=12\n",
    "update(a)\n",
    "print(a)"
   ]
  },
  {
   "cell_type": "markdown",
   "id": "75b73312-2baf-456b-94a9-0943b880485f",
   "metadata": {},
   "source": [
    "# formal argument:--"
   ]
  },
  {
   "cell_type": "code",
   "execution_count": null,
   "id": "d0a47a4f-e045-4db5-b9e4-4920497147a7",
   "metadata": {},
   "outputs": [],
   "source": [
    "def add(a,b): # formal argument\n",
    "    c=a+b\n",
    "    print(c)\n",
    "add(6,9) #actual argument\n"
   ]
  },
  {
   "cell_type": "markdown",
   "id": "aedb75f0-cca9-45c7-8e5b-144934035e7c",
   "metadata": {},
   "source": [
    "# positional argument"
   ]
  },
  {
   "cell_type": "code",
   "execution_count": 73,
   "id": "31a8b209-8100-4409-8a6f-c62a93f46d76",
   "metadata": {},
   "outputs": [
    {
     "name": "stdout",
     "output_type": "stream",
     "text": [
      "sangu\n",
      "24\n"
     ]
    }
   ],
   "source": [
    "def person(Name,age):\n",
    "    print(Name)\n",
    "    print(age)\n",
    "person(\"sangu\",24)"
   ]
  },
  {
   "cell_type": "code",
   "execution_count": 17,
   "id": "50bdb35e-430d-4677-b3b5-a1b4aef71bbd",
   "metadata": {},
   "outputs": [
    {
     "name": "stdout",
     "output_type": "stream",
     "text": [
      "3\n"
     ]
    }
   ],
   "source": [
    "def function(x, /):\n",
    "  print(x)\n",
    "\n",
    "function(3)"
   ]
  },
  {
   "cell_type": "code",
   "execution_count": 19,
   "id": "b6538c5b-67c7-44ce-a424-e205afda8c01",
   "metadata": {},
   "outputs": [
    {
     "name": "stdout",
     "output_type": "stream",
     "text": [
      "3\n"
     ]
    }
   ],
   "source": [
    "def function(x):\n",
    "    print(x)\n",
    "function(x=3)"
   ]
  },
  {
   "cell_type": "markdown",
   "id": "024aa6ef-bb47-4d1c-a482-7d66cdfa994a",
   "metadata": {},
   "source": [
    "# keyword argument"
   ]
  },
  {
   "cell_type": "code",
   "execution_count": 75,
   "id": "358da4bc-070a-4796-9636-42cae5d1285e",
   "metadata": {},
   "outputs": [
    {
     "name": "stdout",
     "output_type": "stream",
     "text": [
      "sangu\n",
      "18\n"
     ]
    }
   ],
   "source": [
    "def person(Name,age):\n",
    "    print(Name)\n",
    "    print(age-5)\n",
    "person(\"sangu\",23)"
   ]
  },
  {
   "cell_type": "code",
   "execution_count": 21,
   "id": "a5f22016-1150-49a0-9d13-94fad6ae672e",
   "metadata": {},
   "outputs": [
    {
     "name": "stdout",
     "output_type": "stream",
     "text": [
      "3\n"
     ]
    }
   ],
   "source": [
    "def function(*,x):\n",
    "    print(x)\n",
    "function(x=3)"
   ]
  },
  {
   "cell_type": "code",
   "execution_count": 23,
   "id": "43daad16-7390-40d1-ac5a-2c7154761aa5",
   "metadata": {},
   "outputs": [
    {
     "name": "stdout",
     "output_type": "stream",
     "text": [
      "26\n"
     ]
    }
   ],
   "source": [
    "def function(a, b, /, *, c, d):\n",
    "  print(a + b + c + d)\n",
    "function(5, 6, c = 7, d = 8)"
   ]
  },
  {
   "cell_type": "code",
   "execution_count": 77,
   "id": "ef99383b-2817-4a02-ac3c-80dc9c082b61",
   "metadata": {},
   "outputs": [
    {
     "name": "stdout",
     "output_type": "stream",
     "text": [
      "sangu\n",
      "23\n"
     ]
    }
   ],
   "source": [
    "def person(name,age):\n",
    "    print(name)\n",
    "    print(age-5)   \n",
    "    \n",
    "person(age = 28, name = 'sangu')"
   ]
  },
  {
   "cell_type": "code",
   "execution_count": null,
   "id": "1204914b-6b86-49c9-9079-34f6d2ce5b67",
   "metadata": {},
   "outputs": [],
   "source": []
  }
 ],
 "metadata": {
  "kernelspec": {
   "display_name": "Python 3 (ipykernel)",
   "language": "python",
   "name": "python3"
  },
  "language_info": {
   "codemirror_mode": {
    "name": "ipython",
    "version": 3
   },
   "file_extension": ".py",
   "mimetype": "text/x-python",
   "name": "python",
   "nbconvert_exporter": "python",
   "pygments_lexer": "ipython3",
   "version": "3.12.7"
  }
 },
 "nbformat": 4,
 "nbformat_minor": 5
}
